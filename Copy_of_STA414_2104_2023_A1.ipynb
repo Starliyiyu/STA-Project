{
  "nbformat": 4,
  "nbformat_minor": 0,
  "metadata": {
    "colab": {
      "provenance": [],
      "collapsed_sections": [
        "QI9CD9BCoh5a"
      ],
      "include_colab_link": true
    },
    "kernelspec": {
      "name": "python3",
      "display_name": "Python 3"
    },
    "language_info": {
      "name": "python"
    }
  },
  "cells": [
    {
      "cell_type": "markdown",
      "metadata": {
        "id": "view-in-github",
        "colab_type": "text"
      },
      "source": [
        "<a href=\"https://colab.research.google.com/github/Starliyiyu/STA303-Final-Project/blob/main/Copy_of_STA414_2104_2023_A1.ipynb\" target=\"_parent\"><img src=\"https://colab.research.google.com/assets/colab-badge.svg\" alt=\"Open In Colab\"/></a>"
      ]
    },
    {
      "cell_type": "markdown",
      "source": [
        "# STA414 A1\n",
        "\n",
        "## *2023/02/03*\n",
        "\n",
        "### *author: Yiyu Li, collaborators: Xiaoyu Ma, Siyi Li*\n",
        "\n",
        "\n"
      ],
      "metadata": {
        "id": "qvE-hsX_kNaF"
      }
    },
    {
      "cell_type": "markdown",
      "source": [
        "# Q1 - Decision Theory"
      ],
      "metadata": {
        "id": "QI9CD9BCoh5a"
      }
    },
    {
      "cell_type": "markdown",
      "source": [
        "One successful use of probabilistic models is for building spam filters, which take in an email and take different actions depending on the likelihood that it’s spam.\n",
        "\n",
        "Imagine you are running an email service. You have a well-calibrated spam classifier that tells you the probability that a particular email is spam: $p(spam|email)$. You have four options for what to do with each email: You can list it as important email, show it to the user, put it in the spam folder, or delete it entirely.\n",
        "\n",
        "Depending on whether or not the email really is spam, the user will suffer a different amount  of wasted time for the different actions we can take, $L$(action, spam):\n",
        "\n",
        "Action   | Spam        | Not spam\n",
        "-------- | ----------- | -----------\n",
        "Important| 15         | 0\n",
        "Show     | 5          | 1\n",
        "Folder   | 1           | 40\n",
        "Delete   | 0           | 150"
      ],
      "metadata": {
        "id": "lqGwGkzkokTV"
      }
    },
    {
      "cell_type": "markdown",
      "source": [],
      "metadata": {
        "id": "MrQFeFh6eq1f"
      }
    },
    {
      "cell_type": "markdown",
      "source": [
        "## Q1.1\n",
        "[3pts] Plot the expected wasted user time for each of the three possible actions, as a function of the probability of spam: $p(spam|email)$."
      ],
      "metadata": {
        "id": "2V_k3L8ByUs9"
      }
    },
    {
      "cell_type": "code",
      "source": [
        "import numpy as np\n",
        "import matplotlib.pyplot as plt"
      ],
      "metadata": {
        "id": "rAwFc8cVSXtW"
      },
      "execution_count": null,
      "outputs": []
    },
    {
      "cell_type": "code",
      "source": [
        "losses = [[15, 0],[5, 1], [1, 40],[0, 150]]\n",
        "actions_names = ['Important','Show', 'Folder', 'Delete']\n",
        "num_actions = len(losses)\n",
        "def expected_loss_of_action(prob_spam, action):\n",
        "    #TODO: Return expected loss over a Bernoulli random variable\n",
        "    # with mean prob_spam.\n",
        "    # Losses are given by the table above.\n",
        "    return losses[action][0]*prob_spam + losses[action][1]*(1-prob_spam)\n",
        "    \n",
        "    \n",
        "prob_range = np.linspace(0., 1., num=600) \n",
        "\n",
        "# Make plot\n",
        "for action in range(num_actions):\n",
        "    plt.plot(prob_range, expected_loss_of_action(prob_range, action), label=actions_names[action])\n",
        "\n",
        "plt.xlabel('$p(spam|email)$')\n",
        "plt.ylabel('Expected loss of action')\n",
        "plt.legend()\n"
      ],
      "metadata": {
        "id": "CwqF1QStyUI0",
        "outputId": "412a265d-7de6-4a6b-8c80-88dbb8d5f6c3",
        "colab": {
          "base_uri": "https://localhost:8080/"
        }
      },
      "execution_count": null,
      "outputs": [
        {
          "output_type": "execute_result",
          "data": {
            "text/plain": [
              "<matplotlib.legend.Legend at 0x7f8a47481040>"
            ]
          },
          "metadata": {},
          "execution_count": 21
        },
        {
          "output_type": "display_data",
          "data": {
            "text/plain": [
              "<Figure size 432x288 with 1 Axes>"
            ],
            "image/png": "[encoded data removed]"
          },
          "metadata": {
            "needs_background": "light"
          }
        }
      ]
    },
    {
      "cell_type": "markdown",
      "source": [
        "## Q1.2\n",
        "[2pts] Write a function that computes the optimal action given the probability of spam."
      ],
      "metadata": {
        "id": "oqtMD5X4NZ1d"
      }
    },
    {
      "cell_type": "code",
      "source": [
        "def optimal_action(prob_spam):\n",
        "    #TODO: return best action given the probability of spam. \n",
        "    #Hint: np.argmin might be helpful.\n",
        "    all_e_loss = []\n",
        "    for action in range(num_actions):\n",
        "      all_e_loss.append(expected_loss_of_action(prob_spam, action))\n",
        "    all_e_loss = np.array(all_e_loss)\n",
        "    return actions_names[np.argmin(all_e_loss)]\n",
        "\n",
        "    "
      ],
      "metadata": {
        "id": "7gLS3sO1NiPv"
      },
      "execution_count": null,
      "outputs": []
    },
    {
      "cell_type": "markdown",
      "source": [
        "## Q1.3\n",
        "[4pts] Plot the expected loss of the optimal action as a function of the probability of spam.\n",
        "\n",
        "\n",
        "Color the line according to the optimal action for that probability of spam.\n"
      ],
      "metadata": {
        "id": "TaIhABveNinu"
      }
    },
    {
      "cell_type": "code",
      "source": [
        "prob_range = np.linspace(0., 1., num=600) \n",
        "optimal_losses = []\n",
        "optimal_actions = []\n",
        "for p in prob_range:\n",
        "    # TODO: Compute the optimal action and its expected loss for\n",
        "    # probability of spam given by p.\n",
        "    optimal_actions.append(optimal_action(p))\n",
        "    optimal_losses.append(expected_loss_of_action(p, actions_names.index(optimal_action(p))))\n",
        "\n",
        "plt.xlabel('p(spam|email)')\n",
        "plt.ylabel('Expected loss of optimal action')\n",
        "plt.plot(prob_range, optimal_losses)"
      ],
      "metadata": {
        "id": "Gdk3OQLONo-P",
        "colab": {
          "base_uri": "https://localhost:8080/"
        },
        "outputId": "7694d631-da50-4b19-ed69-d53524d03129"
      },
      "execution_count": null,
      "outputs": [
        {
          "output_type": "execute_result",
          "data": {
            "text/plain": [
              "[<matplotlib.lines.Line2D at 0x7f8a47394c70>]"
            ]
          },
          "metadata": {},
          "execution_count": 23
        },
        {
          "output_type": "display_data",
          "data": {
            "text/plain": [
              "<Figure size 432x288 with 1 Axes>"
            ],
            "image/png": "[encoded data removed]"
          },
          "metadata": {
            "needs_background": "light"
          }
        }
      ]
    },
    {
      "cell_type": "markdown",
      "source": [
        "## Q1.4\n",
        "[4pts] For exactly which range of the probabilities of an email being spam should we delete an email?\n",
        "\n",
        "Find the exact answer by hand using algebra."
      ],
      "metadata": {
        "id": "M0eRJyGdNpXA"
      }
    },
    {
      "cell_type": "markdown",
      "source": [
        "\n",
        "\n",
        "Your answer:\n",
        "\n",
        "We know that within this range, the expected loss of deletion is smallest among all expected losses, thus, the cutoff of this range according to the Q 1.1 plot is:\n",
        "\n",
        "![414q1.png](data:image/png;base64,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)\n",
        "\n",
        "\n",
        "\n",
        "where $\\mathrm{E}[Delete] = \\mathrm{E}[Folder]$.\n",
        "\n",
        "Let $p$ denote the probalility cutoff. We have:\n",
        "\n",
        "$$\\mathrm{E}[Delete] = 0 * p + 150 * (1-p) =  150 - 150p$$\n",
        "$$\\mathrm{E}[Folder] = 1 * p + 40 * (1-p) =  40 - 39p$$\n",
        "\n",
        "Then\n",
        "\n",
        "$$\\mathrm{E}[Delete] = \\mathrm{E}[Folder]$$\n",
        "\n",
        "$$\\implies 150 - 150p = 40 - 39p$$\n",
        "\n",
        "$$\\implies p ≈ 0.991$$\n",
        "\n",
        "Thus, we can conclude that, we should delete the email when the probabilities of the email being spam is approximately within the range of $[0.991, 1]$.\n",
        "\n",
        "\n",
        "\n"
      ],
      "metadata": {
        "id": "fr_ghgvoUz5p"
      }
    },
    {
      "cell_type": "markdown",
      "source": [
        "# Q2 - Naïve Bayes, A Generative Model"
      ],
      "metadata": {
        "id": "H1kRdfM6ol0R"
      }
    },
    {
      "cell_type": "markdown",
      "source": [
        "![](https://github.com/zalandoresearch/fashion-mnist/blob/master/doc/img/fashion-mnist-sprite.png?raw=true)\n",
        "\n",
        "\n",
        "In this question, we'll fit a Naïve Bayes model to the fashion MNIST dataset, and use this model for making predictions and generating new images from the same distribution. MNIST is a dataset of 28x28 black-and-white images of items of clothing. We represent each image by a vector $x^{(i)} \\in \\{0,1\\}^{784}$, where 0 and 1 represent white and black pixels respectively. Each class label $c^{(i)}$ is a different item of clothing, which in the code is represented by a 10-dimensional one-hot vector.\n",
        "\n",
        "The Naïve Bayes model parameterized by $\\theta$ and $\\pi$ defines the following joint probability of $x$ and $c$,\n",
        "$$p(x,c|\\theta,\\pi) = p(c|\\pi)p(x|c,\\theta) = p(c|\\pi)\\prod_{j=1}^{784}p(x_j|c,\\theta),$$\n",
        "where $x_j | c,\\theta \\sim \\operatorname{Bernoulli}(\\theta_{jc})$ or in other words $p(x_j | c,\\theta) = \\theta_{jc}^{x_j}(1-\\theta_{jc})^{1-x_j}$, and $c|\\pi$ follows a simple categorical distribution, i.e. $p(c|\\pi) = \\pi_c$.\n",
        "\n",
        "We begin by learning the parameters $\\theta$ and $\\pi$. The following code will download and prepare the training and test sets."
      ],
      "metadata": {
        "id": "Je6H8FAKpqmF"
      }
    },
    {
      "cell_type": "code",
      "source": [
        "import numpy as np\n",
        "import os\n",
        "import gzip\n",
        "import struct\n",
        "import array\n",
        "import matplotlib.pyplot as plt\n",
        "import matplotlib.image\n",
        "from urllib.request import urlretrieve\n",
        "\n",
        "def download(url, filename):\n",
        "    if not os.path.exists('data'):\n",
        "        os.makedirs('data')\n",
        "    out_file = os.path.join('data', filename)\n",
        "    if not os.path.isfile(out_file):\n",
        "        urlretrieve(url, out_file)\n",
        "\n",
        "\n",
        "def fashion_mnist():\n",
        "    base_url = 'http://fashion-mnist.s3-website.eu-central-1.amazonaws.com/'\n",
        "\n",
        "    def parse_labels(filename):\n",
        "        with gzip.open(filename, 'rb') as fh:\n",
        "            magic, num_data = struct.unpack(\">II\", fh.read(8))\n",
        "            return np.array(array.array(\"B\", fh.read()), dtype=np.uint8)\n",
        "\n",
        "    def parse_images(filename):\n",
        "        with gzip.open(filename, 'rb') as fh:\n",
        "            magic, num_data, rows, cols = struct.unpack(\">IIII\", fh.read(16))\n",
        "            return np.array(array.array(\"B\", fh.read()), dtype=np.uint8).reshape(num_data, rows, cols)\n",
        "\n",
        "    for filename in ['train-images-idx3-ubyte.gz',\n",
        "                     'train-labels-idx1-ubyte.gz',\n",
        "                     't10k-images-idx3-ubyte.gz',\n",
        "                     't10k-labels-idx1-ubyte.gz']:\n",
        "        download(base_url + filename, filename)\n",
        "\n",
        "    train_images = parse_images('data/train-images-idx3-ubyte.gz')\n",
        "    train_labels = parse_labels('data/train-labels-idx1-ubyte.gz')\n",
        "    test_images = parse_images('data/t10k-images-idx3-ubyte.gz')\n",
        "    test_labels = parse_labels('data/t10k-labels-idx1-ubyte.gz')\n",
        "    # Remove the data point that cause log(0)\n",
        "    remove = (14926, 20348, 36487, 45128, 50945, 51163, 55023)\n",
        "    train_images = np.delete(train_images,remove, axis=0)\n",
        "    train_labels = np.delete(train_labels, remove, axis=0)\n",
        "    return train_images, train_labels, test_images[:1000], test_labels[:1000]\n",
        "\n",
        "\n",
        "def load_fashion_mnist():\n",
        "    partial_flatten = lambda x: np.reshape(x, (x.shape[0], np.prod(x.shape[1:])))\n",
        "    one_hot = lambda x, k: np.array(x[:, None] == np.arange(k)[None, :], dtype=int)\n",
        "    train_images, train_labels, test_images, test_labels =  fashion_mnist()\n",
        "    train_images = (partial_flatten(train_images) / 255.0 > .5).astype(float)\n",
        "    test_images = (partial_flatten(test_images) / 255.0 > .5).astype(float)\n",
        "    train_labels = one_hot(train_labels, 10)\n",
        "    test_labels = one_hot(test_labels, 10)\n",
        "    N_data = train_images.shape[0]\n",
        "\n",
        "    return N_data, train_images, train_labels, test_images, test_labels"
      ],
      "metadata": {
        "id": "k587bbiSvhB4"
      },
      "execution_count": null,
      "outputs": []
    },
    {
      "cell_type": "markdown",
      "source": [
        "## Q2.1\n",
        "[2pts] Derive the expression for the Maximum Likelihood Estimator (MLE) of $\\theta$ and $\\pi$."
      ],
      "metadata": {
        "id": "qgGhDuEBvuMI"
      }
    },
    {
      "cell_type": "markdown",
      "source": [
        "Your answer:\n",
        "\n",
        "Let $N$ be the training sample size. Then:\n",
        "\n",
        "\\begin{align*}\n",
        "        l(θ, π) &= Log(L(θ, π)) \\\\\n",
        "        &= Log(∏^{N}_{i=1} p(x^{(i)},c^{(i)}|\\theta,\\pi)) \\\\\n",
        "        &= Log(∏^{N}_{i=1} \\biggr [ p(c^{(i)}|\\pi)\\prod_{j=1}^{784}p(x_j^{(i)}|c^{(i)},\\theta)\\biggr ]) \\\\ \n",
        "        &= ∑^{N}_{i=1}\\biggr [Log( p(c^{(i)}|\\pi)\\prod_{j=1}^{784}p(x_j^{(i)}|c^{(i)},\\theta))\\biggr ] \\\\\n",
        "         &= ∑^{N}_{i=1}\\biggr [Log( p(c^{(i)}|\\pi)) + Log(\\prod_{j=1}^{784}p(x_j^{(i)}|c^{(i)},\\theta))\\biggr ] \\\\\n",
        "         &= ∑^{N}_{i=1}\\biggr [Log( p(c^{(i)}|\\pi)) + ∑_{j=1}^{784}Log(p(x_j^{(i)}|c^{(i)},\\theta))\\biggr ] \\\\\n",
        "         &= ∑^{N}_{i=1}Log( p(c^{(i)}|\\pi)) + ∑^{N}_{i=1}∑_{j=1}^{784}Log(p(x_j^{(i)}|c^{(i)},\\theta)) \\\\\n",
        "         &= ∑^{N}_{i=1}Log( p(c^{(i)}|\\pi)) + ∑^{N}_{i=1}∑_{j=1}^{784}Log(\\theta_{jc^{(i)}}^{x_j^{(i)}}(1-\\theta_{jc^{(i)}})^{1-x_j^{(i)}}) \\\\\n",
        "         &\\text{ (note: $\\mathbb{1}(c^{(i)} = c)$ is omitted for now for simplification)} \\\\\n",
        "         \\\\\n",
        "         &= ∑^{N}_{i=1}Log( p(c^{(i)}|\\pi)) + ∑^{N}_{i=1}∑_{j=1}^{784}\\biggr [Log\\theta_{jc^{(i)}}^{x^{(i)}_j} + (1-x_j^{(i)})Log(1-\\theta_{jc^{(i)}})\\biggr ] \\\\\n",
        "         &= ∑^{N}_{i=1}∑_{c}\\mathbb{1}(c^{(i)} = c)Log(\\pi_c) + ∑^{N}_{i=1}∑_{j=1}^{784}\\biggr [Log\\theta_{jc^{(i)}}^{x^{(i)}_j} + (1-x_j^{(i)})Log(1-\\theta_{jc^{(i)}})\\biggr]\n",
        "\\end{align*}\n",
        "\n",
        "since $∑_{c}\\pi_c = 1$, we have:\n",
        "\n",
        "\\begin{align*}\n",
        "&= ∑^{N}_{i=1}∑_{c}\\biggr [\\mathbb{1}(c^{(i)} = c)Log(\\pi_c) + 1 - 1 \\biggr ]\\\\\n",
        "&= ∑^{N}_{i=1}∑_{c}\\biggr [\\mathbb{1}(c^{(i)} = c)Log(\\pi_c) + 1 - ∑_{c}\\pi_c\\biggr ] \\\\\n",
        "\\implies \\frac{\\partial l}{\\partial \\pi_c} &= ∑^{N}_{i=1}∑_{c} \\frac{\\partial}{\\partial \\pi_c}\\biggr [\\mathbb{1}(c^{(i)} = c)Log(\\pi_c) + 1 - ∑_{c}\\pi_c\\biggr ] \\\\\n",
        "&= ∑^{N}_{i=1} \\biggr [\\frac{\\mathbb{1}(c^{(i)} = c)}{\\pi_c} - 1 \\biggr ] (\\text{since $∑_{c}$ adds constant times})\n",
        "\\end{align*}\n",
        "\n",
        "Then\n",
        "\n",
        "\\begin{align*}\n",
        "\\frac{\\partial l}{\\partial \\pi_c} &= 0 \\\\\n",
        "\\implies ∑^{N}_{i=1} \\biggr [\\frac{\\mathbb{1}(c^{(i)} = c)}{\\pi_c} - 1 \\biggr ] &= 0 \\\\\n",
        "\\implies ∑^{N}_{i=1} \\frac{\\mathbb{1}(c^{(i)} = c)}{\\pi_c} &= ∑^{N}_{i=1} 1 \\\\\n",
        "\\implies \\frac{1}{\\pi_c}∑^{N}_{i=1}\\mathbb{1}(c^{(i)} = c)  &= N \\\\\n",
        "\\\\\n",
        "\\implies \\hat\\pi_c  =  \\frac{∑^{N}_{i=1}\\mathbb{1}(c^{(i)} = c)}{N}\\\\\n",
        "\\end{align*}\n",
        "\n",
        "As for $\\theta:$\n",
        "\n",
        "\\begin{align*}\n",
        "\\frac{\\partial l}{\\partial \\theta_{jc}} &= ∑^{N}_{i=1}∑_{j=1}^{784} \\frac{\\partial }{\\partial \\theta_{jc}}\\biggr [ Log\\theta_{jc^{(i)}}^{x^{(i)}_j} + (1-x_j^{(i)})Log(1-\\theta_{jc^{(i)}}) \\biggr ]\\\\\n",
        " &= ∑^{N}_{i=1}∑_{j=1}^{784} \\biggr [\\frac{x_j^{(i)}}{\\theta_{jc^{(i)}}} -\\frac{1-x_j^{(i)}}{1-\\theta_{jc^{(i)}}} \\biggr ]\\\\\n",
        " &= ∑^{N}_{i=1}∑_{j=1}^{784} \\biggr [\\frac{x_j^{(i)} - x_j^{(i)}\\theta_{jc^{(i)}}- \\theta_{jc^{(i)}} + x_j^{(i)}\\theta_{jc^{(i)}}}{\\theta_{jc^{(i)}}(1-\\theta_{jc^{(i)}})} \\biggr ]\\\\\n",
        " &= ∑^{N}_{i=1}∑_{j=1}^{784} \\biggr [\\frac{x_j^{(i)}- \\theta_{jc^{(i)}}}{\\theta_{jc^{(i)}}(1-\\theta_{jc^{(i)}})} \\biggr ]\\\\\n",
        "  &=  \\frac{∑^{N}_{i=1}\\biggr [x_j^{(i)}- \\theta_{jc}\\biggr ]}{∑^{N}_{i=1}\\biggr [\\theta_{jc}(1-\\theta_{jc})\\biggr ]} * \\mathbb{1}(c^{(i)} = c)\\\\\n",
        "\\end{align*}\n",
        "\n",
        "Then\n",
        "\n",
        "\\begin{align*}\n",
        "\\frac{\\partial l}{\\partial \\theta_{jc}} &= 0 \\\\\n",
        "\\implies \\frac{∑^{N}_{i=1}\\biggr [x_j^{(i)}- \\theta_{jc}\\biggr ]}{∑^{N}_{i=1}\\biggr [\\theta_{j}(1-\\theta_{jc})\\biggr ]} * \\mathbb{1}(c^{(i)} = c) &= 0 \\\\\n",
        "\\implies ∑^{N}_{i=1}\\biggr [ x_j^{(i)}\\mathbb{1}(c^{(i)} = c)\\biggr ] &= ∑^{N}_{i=1}\\biggr [ \\theta_{jc}\\mathbb{1}(c^{(i)} = c)\\biggr ] \\\\\n",
        "\\\\\n",
        "\\implies \\hat\\theta_{jc}  =  \\frac{∑^{N}_{i=1} \\biggr [x_j^{(i)}\\mathbb{1}(c^{(i)} = c)\\biggr ]}{∑^{N}_{i=1}\\mathbb{1}(c^{(i)} = c)}\\\\\n",
        "\\end{align*}"
      ],
      "metadata": {
        "id": "cISpi3BUOdEp"
      }
    },
    {
      "cell_type": "markdown",
      "source": [
        "## Q2.2\n",
        "[4pts] Using the MLE for this data, many entries of $\\theta$ will be estimated to be 0, which seems extreme. So we look for another estimation method.\n",
        "\n",
        "Assume the prior distribution of $\\theta$ is such that the entries are i.i.d. and drawn from $\\operatorname{Beta}(2,2)$. Derive the Maximum A Posteriori (MAP) estimator for $\\theta$ (it has a simple final form). You can return the MLE for $\\pi$ in your implementation. From now on, we will work with this estimator."
      ],
      "metadata": {
        "id": "gTMSP01Sw-F5"
      }
    },
    {
      "cell_type": "markdown",
      "source": [
        "Your answer:\n",
        "\n",
        "By the Beta pdf,\n",
        "\n",
        "$$p(\\theta) = 6 \\theta (1-\\theta)$$\n",
        "\n",
        "To find MAP:\n",
        "\n",
        "\\begin{align*}\n",
        "        Log(∏^{N}_{i=1} p(x^{(i)},c^{(i)}|\\theta,\\pi)*p(\\theta)) \n",
        "        &= Log(∏^{N}_{i=1} p(x^{(i)},c^{(i)}|\\theta)*p(\\theta)) \\text{  (since $\\pi$ is irrelevant)}\\\\\n",
        "        &= Log(∏^{N}_{i=1} p(x^{(i)},c^{(i)}|\\theta))+Log(p(\\theta))\n",
        "\\end{align*}\n",
        "\n",
        "Then\n",
        "\\begin{align*}\n",
        "Log(p(\\theta)) &=Log(∏^{}_{c}∏^{784}_{j=1} 6 \\theta_{jc} (1-\\theta_{jc})) \\\\\n",
        "        &= ∑^{}_{c}∑^{784}_{j=1}Log( 6 \\theta_{jc} (1-\\theta_{jc}))\n",
        "\\end{align*}\n",
        "\n",
        "Thus\n",
        "\n",
        "\\begin{align*}\n",
        "\\frac{\\partial}{\\partial \\theta}\\biggr [Log(∏^{N}_{i=1} p(x^{(i)},c^{(i)}|\\theta))+Log(p(\\theta))\\biggr ] &=∑^{N}_{i=1}\\frac{\\mathbb{1}(c^{(i)} = c)(x_j^{(i)}- \\theta_{jc})}{\\theta_{jc}(1-\\theta_{jc})} +  \\frac{1- 2\\theta_{jc}}{(1-\\theta_{jc})\\theta_{jc}}\\\\\n",
        "&\\text{(from Q}2.1) \\\\\n",
        "\\\\\n",
        "&=\\frac{1}{\\theta_{jc}(1-\\theta_{jc})}∑^{N}_{i=1}\\mathbb{1}(c^{(i)} = c)(x_j^{(i)}- \\theta_{jc}) +  \\frac{1- 2\\theta_{jc}}{(1-\\theta_{jc})\\theta_{jc}} \\\\\n",
        "\\\\\n",
        "&= 0 \\\\\n",
        "\\\\\n",
        "\\implies \\frac{1}{\\theta_{jc}(1-\\theta_{jc})}∑^{N}_{i=1}\\mathbb{1}(c^{(i)} = c)(x_j^{(i)}- \\theta_{jc}) &=  \\frac{2\\theta_{jc}-1}{(1-\\theta_{jc})\\theta_{jc}} \\\\\n",
        "\\\\\n",
        "\\implies ∑^{N}_{i=1}\\mathbb{1}(c^{(i)} = c)(x_j^{(i)}- \\theta_{jc}) &=  2\\theta_{jc}-1 \\\\\n",
        "\\implies  1+∑^{N}_{i=1}\\mathbb{1}(c^{(i)} = c)x_j^{(i)} &=  \\biggr [2 + ∑^{N}_{i=1}\\mathbb{1}(c^{(i)} = c)\\biggr ]\\theta_{jc} \\\\\n",
        "\\\\\n",
        "\\implies \\hat\\theta_{jc} &=  \\frac{1+∑^{N}_{i=1}\\mathbb{1}(c^{(i)} = c)x_j^{(i)}}{2 + ∑^{N}_{i=1}\\mathbb{1}(c^{(i)} = c)}\n",
        "\\end{align*}\n",
        "\n",
        "\n",
        "\n",
        "\n"
      ],
      "metadata": {
        "id": "uI3hcFf1Of82"
      }
    },
    {
      "cell_type": "code",
      "source": [
        "def train_map_estimator(train_images, train_labels):\n",
        "    \"\"\" Inputs: train_images (N_samples x N_features), train_labels (N_samples x N_classes)\n",
        "        Returns the MAP estimator theta_est (N_features x N_classes) and the MLE\n",
        "        estimator pi_est (N_classes)\"\"\"\n",
        "    \n",
        "    big_n = np.size(train_labels, 0) # N\n",
        "    indicator_sum = np.sum(train_labels, 0)\n",
        "    \n",
        "    pi_est = indicator_sum / big_n\n",
        "    \n",
        "    theta_est = (1 + np.matmul(train_images.T, train_labels)) / (2 + indicator_sum)\n",
        "\n",
        "    return theta_est, pi_est\n",
        "    \n",
        "\n"
      ],
      "metadata": {
        "id": "v49Abi0uxeII"
      },
      "execution_count": null,
      "outputs": []
    },
    {
      "cell_type": "markdown",
      "source": [
        "## Q2.3\n",
        "[5pts] Derive an expression for the class log-likelihood $\\log p(c|x,\\theta,\\pi)$ for a single image. Then, complete the implementation of the following functions. Recall that our prediction rule is to choose the class that maximizes the above log-likelihood, and accuracy is defined as the fraction of samples that are correctly predicted.\n",
        "\n",
        "Report the average log-likelihood $\\frac{1}{N}\\sum_{i=1}^{N}\\log p(c^{(i)}|x^{(i)},\\hat{\\theta},\\hat{\\pi})$ (where $N$ is the number of samples) on the training test, as well the training and test errors."
      ],
      "metadata": {
        "id": "7yO5yq0dyus4"
      }
    },
    {
      "cell_type": "markdown",
      "source": [
        "Your answer:\n",
        "\n",
        "\\begin{align*}\n",
        "p(c|x,\\theta,\\pi) &= \\frac{p(x, c|\\theta,\\pi)}{p(x|\\theta,\\pi)} \\\\\n",
        "&= \\frac{p(x, c|\\theta,\\pi)}{\\sum_{c} p(x, c|\\theta,\\pi)} \\\\\n",
        "&= \\frac{p(c|\\pi)p(x|c,\\theta)}{\\sum_cp(c|\\pi)p(x|c,\\theta)} \\\\\n",
        "\\\\\n",
        "\\implies Log\\biggr [ p(c|x,\\theta,\\pi) \\biggr ] &= Log\\biggr [ \\frac{p(c|\\pi)p(x|c,\\theta)}{\\sum_{c}p(c|\\pi)p(x|c,\\theta)} \\biggr ] \\\\\n",
        "&= Log\\biggr [ p(c|\\pi)p(x|c,\\theta) \\biggr ] - Log\\biggr [\\sum_{c}p(c|\\pi)p(x|c,\\theta)\\biggr ]\\\\\n",
        "&= Log\\pi_c+\\sum_{j=1}^{784}\\biggr [x_jlog\\theta_{jc}+(1-x_j)Log(1-\\theta_{jc})\\biggr ] - Log\\biggr [\\sum_{c}p(c|\\pi)p(x|c,\\theta)\\biggr ]\\\\\n",
        "\\end{align*}\n",
        "\n"
      ],
      "metadata": {
        "id": "36FW8dZpOhb7"
      }
    },
    {
      "cell_type": "code",
      "source": [
        "def log_likelihood(images, theta, pi):\n",
        "    \"\"\" Inputs: images (N_samples x N_features), theta, pi\n",
        "        Returns the matrix 'log_like' of loglikehoods over the input images where\n",
        "        log_like[i,c] = log p (c |x^(i), theta, pi) using the estimators theta and pi.\n",
        "        log_like is a matrix of (N_samples x N_classes)\n",
        "    Note that log likelihood is not only for c^(i), it is for all possible c's.\"\"\"\n",
        "\n",
        "    pxct = np.matmul(images, np.log(theta)) + np.matmul((1 - images), np.log(1-theta)) # second term in formula above\n",
        "    log_like = np.log(pi) + pxct - np.log(np.matmul(np.exp(pxct), pi)).reshape(-1, 1) # combine together = log(p(c|x, theta, pi))\n",
        "\n",
        "    return log_like\n",
        "\n",
        "def accuracy(log_like, labels):\n",
        "    \"\"\" Inputs: matrix of log likelihoods and 1-of-K labels (N_samples x N_classes)\n",
        "    Returns the accuracy based on predictions from log likelihood values\"\"\"\n",
        "\n",
        "    return np.mean(np.argmax(labels, 1) == np.argmax(log_like, 1))\n",
        "\n",
        "\n",
        "N_data, train_images, train_labels, test_images, test_labels = load_fashion_mnist()\n",
        "theta_est, pi_est = train_map_estimator(train_images, train_labels)\n",
        "\n",
        "loglike_train = log_likelihood(train_images, theta_est, pi_est)\n",
        "avg_loglike = np.sum(loglike_train * train_labels) / N_data\n",
        "train_accuracy = accuracy(loglike_train, train_labels)\n",
        "loglike_test = log_likelihood(test_images, theta_est, pi_est)\n",
        "test_accuracy = accuracy(loglike_test, test_labels)\n",
        "\n",
        "print(f\"Average log-likelihood for MAP is {avg_loglike:.3f}\")\n",
        "print(f\"Training accuracy for MAP is {train_accuracy:.3f}\")\n",
        "print(f\"Test accuracy for MAP is {test_accuracy:.3f}\")"
      ],
      "metadata": {
        "id": "6RZwBnVh0Zoo",
        "colab": {
          "base_uri": "https://localhost:8080/"
        },
        "outputId": "286fe4de-5c39-4523-ecbc-4fe58bcc096f"
      },
      "execution_count": null,
      "outputs": [
        {
          "output_type": "stream",
          "name": "stdout",
          "text": [
            "Average log-likelihood for MAP is -34.231\n",
            "Training accuracy for MAP is 0.651\n",
            "Test accuracy for MAP is 0.638\n"
          ]
        }
      ]
    },
    {
      "cell_type": "markdown",
      "source": [
        "## Q2.4\n",
        "[2pts] Given this model's assumptions, is it always true that any two pixels $x_i$ and $x_j$ with $i \\neq j$ are indenepdent given $c$? How about after marginalizing over $c$? Explain your answer."
      ],
      "metadata": {
        "id": "qFJkXeMK2mwP"
      }
    },
    {
      "cell_type": "markdown",
      "source": [
        "Your answer:\n",
        "\n",
        "(Part 1) Since Naïve Bayes assumes conditional independence between all independent variable features, we can conclude that any two pixels $x_i$ and $x_j$ with $i \\neq j$ are indenepdent given $c$.\n",
        "\n",
        "(Part 2) After marginalization:\n",
        "\n",
        "\\begin{align*}\n",
        "p(x_i, x_j) &= \\sum_c p(x_i,x_j,c)\\\\\n",
        "&= \\sum_c p(x_i, x_j|c)p(c)\\\\\n",
        "&= \\sum_cp(x_i|c)p(x_j|c)p(c) \\text{ (by Part 1)}\\\\\n",
        "&\\neq \\sum_c p(x_i|c)p(c) \\sum_c p(x_j|c)p(c) \\\\\n",
        "&= \\sum_c p(x_i,c) \\sum_c p(x_j,c)\\\\\n",
        "&= p(x_i)p(x_j) \\\\\n",
        "\\\\\n",
        "\\implies &\\text{After marginalization, $x_i$ and $x_j$ with $i \\neq j$ are not indenepdent given $c$.}\n",
        "\\end{align*}\n"
      ],
      "metadata": {
        "id": "ImntAmpWOjYe"
      }
    },
    {
      "cell_type": "markdown",
      "source": [
        "## Q2.5 \n",
        "[4pts] Since we have a generative model for our data, we can do more than just prediction. Randomly sample and plot 10 images from the learned distribution using the MAP estimates. (Hint: You first need to sample the class $c$, and then sample pixels conditioned on $c$.)"
      ],
      "metadata": {
        "id": "_P4Y1x_G28QD"
      }
    },
    {
      "cell_type": "code",
      "source": [
        "def image_sampler(theta, pi, num_images):\n",
        "    \"\"\" Inputs: parameters theta and pi, and number of images to sample\n",
        "    Returns the sampled images (N_images x N_features)\"\"\"\n",
        "\n",
        "    sampled_images = np.empty([num_images, np.size(theta, 0)]) #initialize return array\n",
        "    for i in range(num_images):\n",
        "      sampled_class = np.random.choice(np.size(pi, 0), p = pi)\n",
        "      sampled_images[i, :] = np.random.binomial(1, theta[:, sampled_class]) # ber(p = estimated theta given c)\n",
        "    \n",
        "    return sampled_images\n",
        "\n",
        "\n",
        "\n",
        "\n",
        "def plot_images(images, ims_per_row=5, padding=5, image_dimensions=(28, 28),\n",
        "                cmap=matplotlib.cm.binary, vmin=0., vmax=1.):\n",
        "    \"\"\"Images should be a (N_images x pixels) matrix.\"\"\"\n",
        "    fig = plt.figure(1)\n",
        "    fig.clf()\n",
        "    ax = fig.add_subplot(111)\n",
        "\n",
        "    N_images = images.shape[0]\n",
        "    N_rows = np.int32(np.ceil(float(N_images) / ims_per_row))\n",
        "    pad_value = vmin\n",
        "    concat_images = np.full(((image_dimensions[0] + padding) * N_rows + padding,\n",
        "                             (image_dimensions[1] + padding) * ims_per_row + padding), pad_value)\n",
        "    for i in range(N_images):\n",
        "        cur_image = np.reshape(images[i, :], image_dimensions)\n",
        "        row_ix = i // ims_per_row\n",
        "        col_ix = i % ims_per_row\n",
        "        row_start = padding + (padding + image_dimensions[0]) * row_ix\n",
        "        col_start = padding + (padding + image_dimensions[1]) * col_ix\n",
        "        concat_images[row_start: row_start + image_dimensions[0],\n",
        "                      col_start: col_start + image_dimensions[1]] = cur_image\n",
        "        cax = ax.matshow(concat_images, cmap=cmap, vmin=vmin, vmax=vmax)\n",
        "        plt.xticks(np.array([]))\n",
        "        plt.yticks(np.array([]))\n",
        "    \n",
        "    plt.plot()\n",
        "\n",
        "\n",
        "sampled_images = image_sampler(theta_est, pi_est, 10)\n",
        "plot_images(sampled_images)"
      ],
      "metadata": {
        "id": "amV0qFMC3myy",
        "colab": {
          "base_uri": "https://localhost:8080/",
          "height": 178
        },
        "outputId": "95f8ab00-e276-4afd-a734-1a050924bb5a"
      },
      "execution_count": null,
      "outputs": [
        {
          "output_type": "display_data",
          "data": {
            "text/plain": [
              "<Figure size 432x288 with 1 Axes>"
            ],
            "image/png": "[encoded data removed]"
          },
          "metadata": {}
        }
      ]
    },
    {
      "cell_type": "markdown",
      "source": [
        "## Q2.6\n",
        "[4pts] One of the advantages of generative models is that they can handle missing data, or be used to answer different sorts of questions about the model. Assume we have only observed some pixels of the image. Let $x_E = \\{x_p : \\text{pixel $p$ is observed}\\}$. Derive an expression for $p(x_j|x_E,\\theta,\\pi)$, the conditional probability of an unobserved pixel $j$ given the observed pixels and distribution parameters. (Hint: You have to marginalize over $c$.)"
      ],
      "metadata": {
        "id": "qCYQ6VVx5YI5"
      }
    },
    {
      "cell_type": "markdown",
      "source": [
        "Your answer:\n",
        "\n",
        "\n",
        "\n",
        "\\begin{align*}\n",
        "p(x_j|x_E,\\theta,\\pi)&= {p(x_j,x_E|\\theta,\\pi)\\over p(x_E|\\theta,\\pi)}\\\\\n",
        "&={\\sum_cp(x_j,x_E,c|\\theta,\\pi)\\over \\sum_c p(x_E,c|\\theta,\\pi)} \\text{ (marginalize over $c$)}\\\\\n",
        "&={\\sum_c p(c|\\pi)p(x_j,x_E|\\theta,c)\\over \\sum_c p(c|\\pi)p(x_E|\\theta,c)}\\\\ \n",
        "&={\\sum_c p(c|\\pi)p(x_j|\\theta,c)p(x_E|\\theta,c)\\over \\sum_c p(c|\\pi)p(x_E|\\theta,c)} \\text{ (by i.i.d assumption)}\n",
        "\\end{align*}"
      ],
      "metadata": {
        "id": "GGT2yAtLOmJW"
      }
    },
    {
      "cell_type": "markdown",
      "source": [
        "## Q2.7\n",
        "[4pts] We assume that only 30% of the pixels are observed. For the first 20 images in the training set, plot the images when the unobserved pixels are left as white, as well as the same images when the unobserved pixels are filled with the marginal probability of the pixel being 1 given the observed pixels, i.e. the value of the unobserved pixel $j$ is $p(x_j = 1|x_E,\\theta,\\pi)$."
      ],
      "metadata": {
        "id": "5qGf4Rwx6ZPy"
      }
    },
    {
      "cell_type": "code",
      "source": [
        "def probabilistic_imputer(theta, pi, original_images, is_observed):\n",
        "    \"\"\"Inputs: parameters theta and pi, original_images (N_images x N_features), \n",
        "        and is_observed which has the same shape as original_images, with a value\n",
        "        1. in every observed entry and 0. in every unobserved entry.\n",
        "    Returns the new images where unobserved pixels are replaced by their \n",
        "    conditional probability\"\"\"\n",
        "    \n",
        "    for i in range(np.size(original_images, 0)):\n",
        "      xe = original_images[i][is_observed[i] == 1] # xe = the obsesrved pixels in the ith image\n",
        "      theta_image = theta[is_observed[i] == 1] # theta for observed pixels\n",
        "\n",
        "      # find p(xe) by taking log first to avoid computation error\n",
        "      log_pxe = np.matmul(np.log(theta_image.T), xe) + np.matmul(np.log(1 - theta_image.T), 1 - xe) # log(p(xe)|c, theta) = xlog(theta) + (1-x)log(1-theta) \n",
        "      pxe = np.exp(log_pxe) # take exp to get p(xe)\n",
        "\n",
        "      # note that p(x_j = 1|xe, theta, pi) = theta_j, thus we replace this part by theta_j in the formula derived in 2.6\n",
        "      theta_j = theta[is_observed[i] == 0]\n",
        "\n",
        "      #p(x_j|xe, theta, pi) = final formula derived in 2.6 with p(x_j = 1|xe, theta, pi) = theta_j\n",
        "      pxj = np.sum(theta_j * pi * pxe.reshape(1, -1), axis = 1) / (np.sum(pi * pxe)) \n",
        "      imputed_images = original_images.copy()\n",
        "      imputed_images[i, is_observed[i] == 0] = pxj # fill the unobserved pixels in the ith image with the computed marginal probability\n",
        "\n",
        "    return imputed_images\n",
        "    \n",
        "num_features = train_images.shape[1]\n",
        "is_observed = np.random.binomial(1, p=0.3, size=(20, num_features))\n",
        "plot_images(train_images[:20] * is_observed)"
      ],
      "metadata": {
        "id": "k8g40hvw6pE_",
        "colab": {
          "base_uri": "https://localhost:8080/",
          "height": 255
        },
        "outputId": "0af1448d-24cc-4a32-822f-dca6f212f76b"
      },
      "execution_count": null,
      "outputs": [
        {
          "output_type": "display_data",
          "data": {
            "text/plain": [
              "<Figure size 432x288 with 1 Axes>"
            ],
            "image/png": "[encoded data removed]"
          },
          "metadata": {}
        }
      ]
    },
    {
      "cell_type": "code",
      "source": [
        "imputed_images = probabilistic_imputer(theta_est, pi_est, train_images[:20], is_observed)\n",
        "plot_images(imputed_images)"
      ],
      "metadata": {
        "id": "RtOM8Ba4uVQj",
        "colab": {
          "base_uri": "https://localhost:8080/",
          "height": 255
        },
        "outputId": "90a056e4-44b5-4952-cf88-d92ad887c716"
      },
      "execution_count": null,
      "outputs": [
        {
          "output_type": "display_data",
          "data": {
            "text/plain": [
              "<Figure size 432x288 with 1 Axes>"
            ],
            "image/png": "[encoded data removed]"
          },
          "metadata": {}
        }
      ]
    }
  ]
}